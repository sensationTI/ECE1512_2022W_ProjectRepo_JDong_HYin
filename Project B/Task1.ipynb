{
  "nbformat": 4,
  "nbformat_minor": 0,
  "metadata": {
    "colab": {
      "name": "Task1.ipynb",
      "provenance": [],
      "collapsed_sections": []
    },
    "kernelspec": {
      "name": "python3",
      "display_name": "Python 3"
    },
    "language_info": {
      "name": "python"
    }
  },
  "cells": [
    {
      "cell_type": "markdown",
      "source": [
        "# Project B: Knowledge Distillation for Building Lightweight Deep Learning Models in Visual Classification Tasks"
      ],
      "metadata": {
        "id": "6WYMfvCNPwpm"
      }
    },
    {
      "cell_type": "code",
      "source": [
        "import tensorflow.compat.v2 as tf\n",
        "import tensorflow_datasets as tfds\n",
        "from typing import Union\n",
        "import matplotlib.pyplot as plt\n",
        "import numpy as np\n",
        "import cv2\n",
        "from keras.utils.vis_utils import plot_model\n",
        "\n",
        "tf.enable_v2_behavior()\n",
        "\n",
        "builder = tfds.builder('mnist')\n",
        "BATCH_SIZE = 256\n",
        "NUM_EPOCHS = 12\n",
        "NUM_CLASSES = 10  # 10 total classes."
      ],
      "metadata": {
        "id": "vA8ppgB2P0aJ"
      },
      "execution_count": null,
      "outputs": []
    },
    {
      "cell_type": "code",
      "source": [
        "!pip install keras-flops\n",
        "from keras_flops import get_flops\n"
      ],
      "metadata": {
        "colab": {
          "base_uri": "https://localhost:8080/"
        },
        "id": "Ot64i0K-L0Pu",
        "outputId": "f4d00daf-d26c-4bdd-9bdc-a522a0092390"
      },
      "execution_count": null,
      "outputs": [
        {
          "output_type": "stream",
          "name": "stdout",
          "text": [
            "Requirement already satisfied: keras-flops in /usr/local/lib/python3.7/dist-packages (0.1.2)\n",
            "Requirement already satisfied: tensorflow<3.0,>=2.2 in /usr/local/lib/python3.7/dist-packages (from keras-flops) (2.8.0)\n",
            "Requirement already satisfied: gast>=0.2.1 in /usr/local/lib/python3.7/dist-packages (from tensorflow<3.0,>=2.2->keras-flops) (0.5.3)\n",
            "Requirement already satisfied: setuptools in /usr/local/lib/python3.7/dist-packages (from tensorflow<3.0,>=2.2->keras-flops) (57.4.0)\n",
            "Requirement already satisfied: typing-extensions>=3.6.6 in /usr/local/lib/python3.7/dist-packages (from tensorflow<3.0,>=2.2->keras-flops) (3.10.0.2)\n",
            "Requirement already satisfied: tensorflow-io-gcs-filesystem>=0.23.1 in /usr/local/lib/python3.7/dist-packages (from tensorflow<3.0,>=2.2->keras-flops) (0.24.0)\n",
            "Requirement already satisfied: grpcio<2.0,>=1.24.3 in /usr/local/lib/python3.7/dist-packages (from tensorflow<3.0,>=2.2->keras-flops) (1.44.0)\n",
            "Requirement already satisfied: wrapt>=1.11.0 in /usr/local/lib/python3.7/dist-packages (from tensorflow<3.0,>=2.2->keras-flops) (1.14.0)\n",
            "Requirement already satisfied: flatbuffers>=1.12 in /usr/local/lib/python3.7/dist-packages (from tensorflow<3.0,>=2.2->keras-flops) (2.0)\n",
            "Requirement already satisfied: google-pasta>=0.1.1 in /usr/local/lib/python3.7/dist-packages (from tensorflow<3.0,>=2.2->keras-flops) (0.2.0)\n",
            "Requirement already satisfied: tf-estimator-nightly==2.8.0.dev2021122109 in /usr/local/lib/python3.7/dist-packages (from tensorflow<3.0,>=2.2->keras-flops) (2.8.0.dev2021122109)\n",
            "Requirement already satisfied: six>=1.12.0 in /usr/local/lib/python3.7/dist-packages (from tensorflow<3.0,>=2.2->keras-flops) (1.15.0)\n",
            "Requirement already satisfied: protobuf>=3.9.2 in /usr/local/lib/python3.7/dist-packages (from tensorflow<3.0,>=2.2->keras-flops) (3.17.3)\n",
            "Requirement already satisfied: libclang>=9.0.1 in /usr/local/lib/python3.7/dist-packages (from tensorflow<3.0,>=2.2->keras-flops) (13.0.0)\n",
            "Requirement already satisfied: absl-py>=0.4.0 in /usr/local/lib/python3.7/dist-packages (from tensorflow<3.0,>=2.2->keras-flops) (1.0.0)\n",
            "Requirement already satisfied: astunparse>=1.6.0 in /usr/local/lib/python3.7/dist-packages (from tensorflow<3.0,>=2.2->keras-flops) (1.6.3)\n",
            "Requirement already satisfied: keras<2.9,>=2.8.0rc0 in /usr/local/lib/python3.7/dist-packages (from tensorflow<3.0,>=2.2->keras-flops) (2.8.0)\n",
            "Requirement already satisfied: keras-preprocessing>=1.1.1 in /usr/local/lib/python3.7/dist-packages (from tensorflow<3.0,>=2.2->keras-flops) (1.1.2)\n",
            "Requirement already satisfied: opt-einsum>=2.3.2 in /usr/local/lib/python3.7/dist-packages (from tensorflow<3.0,>=2.2->keras-flops) (3.3.0)\n",
            "Requirement already satisfied: tensorboard<2.9,>=2.8 in /usr/local/lib/python3.7/dist-packages (from tensorflow<3.0,>=2.2->keras-flops) (2.8.0)\n",
            "Requirement already satisfied: h5py>=2.9.0 in /usr/local/lib/python3.7/dist-packages (from tensorflow<3.0,>=2.2->keras-flops) (3.1.0)\n",
            "Requirement already satisfied: numpy>=1.20 in /usr/local/lib/python3.7/dist-packages (from tensorflow<3.0,>=2.2->keras-flops) (1.21.5)\n",
            "Requirement already satisfied: termcolor>=1.1.0 in /usr/local/lib/python3.7/dist-packages (from tensorflow<3.0,>=2.2->keras-flops) (1.1.0)\n",
            "Requirement already satisfied: wheel<1.0,>=0.23.0 in /usr/local/lib/python3.7/dist-packages (from astunparse>=1.6.0->tensorflow<3.0,>=2.2->keras-flops) (0.37.1)\n",
            "Requirement already satisfied: cached-property in /usr/local/lib/python3.7/dist-packages (from h5py>=2.9.0->tensorflow<3.0,>=2.2->keras-flops) (1.5.2)\n",
            "Requirement already satisfied: tensorboard-plugin-wit>=1.6.0 in /usr/local/lib/python3.7/dist-packages (from tensorboard<2.9,>=2.8->tensorflow<3.0,>=2.2->keras-flops) (1.8.1)\n",
            "Requirement already satisfied: requests<3,>=2.21.0 in /usr/local/lib/python3.7/dist-packages (from tensorboard<2.9,>=2.8->tensorflow<3.0,>=2.2->keras-flops) (2.23.0)\n",
            "Requirement already satisfied: google-auth<3,>=1.6.3 in /usr/local/lib/python3.7/dist-packages (from tensorboard<2.9,>=2.8->tensorflow<3.0,>=2.2->keras-flops) (1.35.0)\n",
            "Requirement already satisfied: werkzeug>=0.11.15 in /usr/local/lib/python3.7/dist-packages (from tensorboard<2.9,>=2.8->tensorflow<3.0,>=2.2->keras-flops) (1.0.1)\n",
            "Requirement already satisfied: markdown>=2.6.8 in /usr/local/lib/python3.7/dist-packages (from tensorboard<2.9,>=2.8->tensorflow<3.0,>=2.2->keras-flops) (3.3.6)\n",
            "Requirement already satisfied: google-auth-oauthlib<0.5,>=0.4.1 in /usr/local/lib/python3.7/dist-packages (from tensorboard<2.9,>=2.8->tensorflow<3.0,>=2.2->keras-flops) (0.4.6)\n",
            "Requirement already satisfied: tensorboard-data-server<0.7.0,>=0.6.0 in /usr/local/lib/python3.7/dist-packages (from tensorboard<2.9,>=2.8->tensorflow<3.0,>=2.2->keras-flops) (0.6.1)\n",
            "Requirement already satisfied: cachetools<5.0,>=2.0.0 in /usr/local/lib/python3.7/dist-packages (from google-auth<3,>=1.6.3->tensorboard<2.9,>=2.8->tensorflow<3.0,>=2.2->keras-flops) (4.2.4)\n",
            "Requirement already satisfied: pyasn1-modules>=0.2.1 in /usr/local/lib/python3.7/dist-packages (from google-auth<3,>=1.6.3->tensorboard<2.9,>=2.8->tensorflow<3.0,>=2.2->keras-flops) (0.2.8)\n",
            "Requirement already satisfied: rsa<5,>=3.1.4 in /usr/local/lib/python3.7/dist-packages (from google-auth<3,>=1.6.3->tensorboard<2.9,>=2.8->tensorflow<3.0,>=2.2->keras-flops) (4.8)\n",
            "Requirement already satisfied: requests-oauthlib>=0.7.0 in /usr/local/lib/python3.7/dist-packages (from google-auth-oauthlib<0.5,>=0.4.1->tensorboard<2.9,>=2.8->tensorflow<3.0,>=2.2->keras-flops) (1.3.1)\n",
            "Requirement already satisfied: importlib-metadata>=4.4 in /usr/local/lib/python3.7/dist-packages (from markdown>=2.6.8->tensorboard<2.9,>=2.8->tensorflow<3.0,>=2.2->keras-flops) (4.11.3)\n",
            "Requirement already satisfied: zipp>=0.5 in /usr/local/lib/python3.7/dist-packages (from importlib-metadata>=4.4->markdown>=2.6.8->tensorboard<2.9,>=2.8->tensorflow<3.0,>=2.2->keras-flops) (3.7.0)\n",
            "Requirement already satisfied: pyasn1<0.5.0,>=0.4.6 in /usr/local/lib/python3.7/dist-packages (from pyasn1-modules>=0.2.1->google-auth<3,>=1.6.3->tensorboard<2.9,>=2.8->tensorflow<3.0,>=2.2->keras-flops) (0.4.8)\n",
            "Requirement already satisfied: chardet<4,>=3.0.2 in /usr/local/lib/python3.7/dist-packages (from requests<3,>=2.21.0->tensorboard<2.9,>=2.8->tensorflow<3.0,>=2.2->keras-flops) (3.0.4)\n",
            "Requirement already satisfied: idna<3,>=2.5 in /usr/local/lib/python3.7/dist-packages (from requests<3,>=2.21.0->tensorboard<2.9,>=2.8->tensorflow<3.0,>=2.2->keras-flops) (2.10)\n",
            "Requirement already satisfied: certifi>=2017.4.17 in /usr/local/lib/python3.7/dist-packages (from requests<3,>=2.21.0->tensorboard<2.9,>=2.8->tensorflow<3.0,>=2.2->keras-flops) (2021.10.8)\n",
            "Requirement already satisfied: urllib3!=1.25.0,!=1.25.1,<1.26,>=1.21.1 in /usr/local/lib/python3.7/dist-packages (from requests<3,>=2.21.0->tensorboard<2.9,>=2.8->tensorflow<3.0,>=2.2->keras-flops) (1.24.3)\n",
            "Requirement already satisfied: oauthlib>=3.0.0 in /usr/local/lib/python3.7/dist-packages (from requests-oauthlib>=0.7.0->google-auth-oauthlib<0.5,>=0.4.1->tensorboard<2.9,>=2.8->tensorflow<3.0,>=2.2->keras-flops) (3.2.0)\n"
          ]
        }
      ]
    },
    {
      "cell_type": "markdown",
      "source": [
        "# Data loading"
      ],
      "metadata": {
        "id": "H2EFLQROP2R7"
      }
    },
    {
      "cell_type": "code",
      "source": [
        "# Load train and test splits.\n",
        "def preprocess(x):\n",
        "  image = tf.image.convert_image_dtype(x['image'], tf.float32)\n",
        "  class_labels = tf.one_hot(x['label'], builder.info.features['label'].num_classes)\n",
        "  return image, class_labels\n",
        "\n",
        "\n",
        "mnist_train = tfds.load('mnist', split='train', shuffle_files=False).cache()\n",
        "mnist_train = mnist_train.map(preprocess)\n",
        "mnist_train = mnist_train.shuffle(builder.info.splits['train'].num_examples)\n",
        "mnist_train = mnist_train.batch(BATCH_SIZE, drop_remainder=True)\n",
        "\n",
        "mnist_test = tfds.load('mnist', split='test').cache()\n",
        "mnist_test = mnist_test.map(preprocess).batch(BATCH_SIZE)"
      ],
      "metadata": {
        "id": "ynByMG_UP4A4"
      },
      "execution_count": null,
      "outputs": []
    },
    {
      "cell_type": "markdown",
      "source": [
        "# Model creation"
      ],
      "metadata": {
        "id": "kAZwfvW5P63q"
      }
    },
    {
      "cell_type": "code",
      "source": [
        "# Build CNN teacher.\n",
        "cnn_model = tf.keras.Sequential()\n",
        "cnn_model.add(tf.keras.Input(shape=(28,28,1)))\n",
        "cnn_model.add(tf.keras.layers.Conv2D(32, 3, strides=1, activation='relu'))\n",
        "cnn_model.add(tf.keras.layers.MaxPooling2D(pool_size=(2,2), strides=1))\n",
        "cnn_model.add(tf.keras.layers.Conv2D(64, 3, strides=1, activation='relu'))\n",
        "cnn_model.add(tf.keras.layers.MaxPooling2D(pool_size=(2,2), strides=2))\n",
        "cnn_model.add(tf.keras.layers.Flatten())\n",
        "cnn_model.add(tf.keras.layers.Dropout(0.5))\n",
        "cnn_model.add(tf.keras.layers.Dense(128, activation='relu'))\n",
        "cnn_model.add(tf.keras.layers.Dropout(0.5))\n",
        "cnn_model.add(tf.keras.layers.Dense(10))\n",
        "\n",
        "\n",
        "# your code start from here for stpe 2\n",
        "\n",
        "\n",
        "# Build fully connected student.\n",
        "fc_model = tf.keras.Sequential()\n",
        "fc_model.add(tf.keras.Input(shape=(28,28,1)))\n",
        "fc_model.add(tf.keras.layers.Flatten())\n",
        "fc_model.add(tf.keras.layers.Dense(784, activation='relu'))\n",
        "fc_model.add(tf.keras.layers.Dense(784, activation='relu'))\n",
        "fc_model.add(tf.keras.layers.Dense(10))\n",
        "\n",
        "\n",
        "\n",
        "# your code start from here for step 2\n"
      ],
      "metadata": {
        "id": "zINgDkA7P7BP"
      },
      "execution_count": null,
      "outputs": []
    },
    {
      "cell_type": "code",
      "source": [
        "cnn_model.summary()"
      ],
      "metadata": {
        "colab": {
          "base_uri": "https://localhost:8080/"
        },
        "id": "CfDx-OG2uWpw",
        "outputId": "77463a71-7b11-4e77-c4c3-01238a8c0e29"
      },
      "execution_count": null,
      "outputs": [
        {
          "output_type": "stream",
          "name": "stdout",
          "text": [
            "Model: \"sequential\"\n",
            "_________________________________________________________________\n",
            " Layer (type)                Output Shape              Param #   \n",
            "=================================================================\n",
            " conv2d (Conv2D)             (None, 26, 26, 32)        320       \n",
            "                                                                 \n",
            " max_pooling2d (MaxPooling2D  (None, 25, 25, 32)       0         \n",
            " )                                                               \n",
            "                                                                 \n",
            " conv2d_1 (Conv2D)           (None, 23, 23, 64)        18496     \n",
            "                                                                 \n",
            " max_pooling2d_1 (MaxPooling  (None, 11, 11, 64)       0         \n",
            " 2D)                                                             \n",
            "                                                                 \n",
            " flatten (Flatten)           (None, 7744)              0         \n",
            "                                                                 \n",
            " dropout (Dropout)           (None, 7744)              0         \n",
            "                                                                 \n",
            " dense (Dense)               (None, 128)               991360    \n",
            "                                                                 \n",
            " dropout_1 (Dropout)         (None, 128)               0         \n",
            "                                                                 \n",
            " dense_1 (Dense)             (None, 10)                1290      \n",
            "                                                                 \n",
            "=================================================================\n",
            "Total params: 1,011,466\n",
            "Trainable params: 1,011,466\n",
            "Non-trainable params: 0\n",
            "_________________________________________________________________\n"
          ]
        }
      ]
    },
    {
      "cell_type": "code",
      "source": [
        "fc_model.summary()"
      ],
      "metadata": {
        "colab": {
          "base_uri": "https://localhost:8080/"
        },
        "id": "Bbb5Zbl61Scf",
        "outputId": "5473a19b-6101-4ad8-92c1-db47950e83a4"
      },
      "execution_count": null,
      "outputs": [
        {
          "output_type": "stream",
          "name": "stdout",
          "text": [
            "Model: \"sequential_1\"\n",
            "_________________________________________________________________\n",
            " Layer (type)                Output Shape              Param #   \n",
            "=================================================================\n",
            " flatten_1 (Flatten)         (None, 784)               0         \n",
            "                                                                 \n",
            " dense_2 (Dense)             (None, 784)               615440    \n",
            "                                                                 \n",
            " dense_3 (Dense)             (None, 784)               615440    \n",
            "                                                                 \n",
            " dense_4 (Dense)             (None, 10)                7850      \n",
            "                                                                 \n",
            "=================================================================\n",
            "Total params: 1,238,730\n",
            "Trainable params: 1,238,730\n",
            "Non-trainable params: 0\n",
            "_________________________________________________________________\n"
          ]
        }
      ]
    },
    {
      "cell_type": "markdown",
      "source": [
        "# Teacher loss function"
      ],
      "metadata": {
        "id": "8JWGucyrQGav"
      }
    },
    {
      "cell_type": "code",
      "source": [
        "@tf.function\n",
        "def compute_teacher_loss(images, labels):\n",
        "  \"\"\"Compute class knowledge distillation teacher loss for given images\n",
        "     and labels.\n",
        "\n",
        "  Args:\n",
        "    images: Tensor representing a batch of images.\n",
        "    labels: Tensor representing a batch of labels.\n",
        "\n",
        "  Returns:\n",
        "    Scalar loss Tensor.\n",
        "  \"\"\"\n",
        "  class_logits = cnn_model(images, training=True)\n",
        "\n",
        "  # Compute cross-entropy loss for classes.\n",
        "  # your code start from here for step 3\n",
        "  cross_entropy_loss_value = tf.reduce_mean(tf.nn.softmax_cross_entropy_with_logits(labels, class_logits))\n",
        "\n",
        "  return cross_entropy_loss_value"
      ],
      "metadata": {
        "id": "DhzBP6ZLQJ57"
      },
      "execution_count": null,
      "outputs": []
    },
    {
      "cell_type": "markdown",
      "source": [
        "# Student loss function"
      ],
      "metadata": {
        "id": "JS8xkuH0QbOS"
      }
    },
    {
      "cell_type": "code",
      "source": [
        "# Hyperparameters for distillation (need to be tuned).\n",
        "ALPHA = 0.5 # task balance between cross-entropy and distillation loss\n",
        "DISTILLATION_TEMPERATURE = 4 #temperature hyperparameter\n",
        "\n",
        "def distillation_loss(teacher_logits: tf.Tensor, student_logits: tf.Tensor,\n",
        "                      temperature: Union[float, tf.Tensor]):\n",
        "  \"\"\"Compute distillation loss.\n",
        "\n",
        "  This function computes cross entropy between softened logits and softened\n",
        "  targets. The resulting loss is scaled by the squared temperature so that\n",
        "  the gradient magnitude remains approximately constant as the temperature is\n",
        "  changed. For reference, see Hinton et al., 2014, \"Distilling the knowledge in\n",
        "  a neural network.\"\n",
        "\n",
        "  Args:\n",
        "    teacher_logits: A Tensor of logits provided by the teacher.\n",
        "    student_logits: A Tensor of logits provided by the student, of the same\n",
        "      shape as `teacher_logits`.\n",
        "    temperature: Temperature to use for distillation.\n",
        "\n",
        "  Returns:\n",
        "    A scalar Tensor containing the distillation loss.\n",
        "  \"\"\"\n",
        " # your code start from here for step 3\n",
        "  soft_targets = tf.nn.softmax(teacher_logits / temperature)\n",
        "\n",
        "  return tf.reduce_mean(\n",
        "      tf.nn.softmax_cross_entropy_with_logits(\n",
        "          soft_targets, student_logits / temperature)) * temperature ** 2\n",
        "\n",
        "def compute_student_loss(images, labels):\n",
        "  \"\"\"Compute class knowledge distillation student loss for given images\n",
        "     and labels.\n",
        "\n",
        "  Args:\n",
        "    images: Tensor representing a batch of images.\n",
        "    labels: Tensor representing a batch of labels.\n",
        "\n",
        "  Returns:\n",
        "    Scalar loss Tensor.\n",
        "  \"\"\"\n",
        "  student_class_logits = fc_model(images, training=True)\n",
        "\n",
        "  # Compute class distillation loss between student class logits and\n",
        "  # softened teacher class targets probabilities.\n",
        "\n",
        "  # your code start from here for step 3\n",
        "\n",
        "  teacher_class_logits = cnn_model(images, training=False)\n",
        "  distillation_loss_value = distillation_loss(teacher_class_logits, student_class_logits, DISTILLATION_TEMPERATURE)\n",
        "\n",
        "  # Compute cross-entropy loss with hard targets.\n",
        "\n",
        "  # your code start from here for step 3\n",
        "  student_loss = tf.reduce_mean(tf.nn.softmax_cross_entropy_with_logits(labels, student_class_logits))\n",
        "  cross_entropy_loss_value = ALPHA * student_loss + (1 - ALPHA) * distillation_loss_value\n",
        "  \n",
        "  return cross_entropy_loss_value"
      ],
      "metadata": {
        "id": "lDKia4gPQMIr"
      },
      "execution_count": null,
      "outputs": []
    },
    {
      "cell_type": "markdown",
      "source": [
        "# Train and evaluation"
      ],
      "metadata": {
        "id": "RJ1uyvurQ3w4"
      }
    },
    {
      "cell_type": "code",
      "source": [
        "@tf.function\n",
        "def compute_num_correct(model, images, labels):\n",
        "  \"\"\"Compute number of correctly classified images in a batch.\n",
        "  Args:\n",
        "    model: Instance of tf.keras.Model.\n",
        "    images: Tensor representing a batch of images.\n",
        "    labels: Tensor representing a batch of labels.\n",
        "  Returns:\n",
        "    Number of correctly classified images.\n",
        "  \"\"\"\n",
        "  class_logits = model(images, training=False)\n",
        "\n",
        "  return tf.reduce_sum(\n",
        "      tf.cast(tf.math.equal(tf.argmax(class_logits, -1), tf.argmax(labels, -1)),\n",
        "              tf.float32)), tf.argmax(class_logits, -1), tf.argmax(labels, -1)\n",
        "\n",
        "def train_and_evaluate(model, compute_loss_fn):\n",
        "  \"\"\"Perform training and evaluation for a given model.\n",
        "\n",
        "  Args:\n",
        "    model: Instance of tf.keras.Model.\n",
        "    compute_loss_fn: A function that computes the training loss given the\n",
        "      images, and labels.\n",
        "  \"\"\"\n",
        "  # your code start from here for step 4\n",
        "  optimizer = tf.keras.optimizers.Adam(learning_rate=0.001)\n",
        "  for epoch in range(1, NUM_EPOCHS + 1):\n",
        "    # Run training.\n",
        "    print('Epoch {}: '.format(epoch), end='')\n",
        "    for images, labels in mnist_train:\n",
        "      with tf.GradientTape() as tape:\n",
        "        # your code start from here for step 4\n",
        "        loss_value = compute_loss_fn(images, labels)\n",
        "      #print(loss_value)\n",
        "      grads = tape.gradient(loss_value, model.trainable_variables)\n",
        "      optimizer.apply_gradients(zip(grads, model.trainable_variables))\n",
        "    # Run evaluation.\n",
        "    num_correct = 0\n",
        "    num_total = builder.info.splits['test'].num_examples\n",
        "    for images, labels in mnist_test:\n",
        "      # your code start from here for step 4\n",
        "      a,b,c = compute_num_correct(model, images, labels)\n",
        "      num_correct += a\n",
        "    print(\"Class_accuracy: \" + '{:.2f}%'.format(\n",
        "        num_correct / num_total * 100))"
      ],
      "metadata": {
        "id": "EtoLbp8uQ4Vl"
      },
      "execution_count": null,
      "outputs": []
    },
    {
      "cell_type": "markdown",
      "source": [
        "# Training models"
      ],
      "metadata": {
        "id": "NQL1lJdaRPT1"
      }
    },
    {
      "cell_type": "code",
      "source": [
        "# your code start from here for step 5 \n",
        "train_and_evaluate(cnn_model, compute_teacher_loss)"
      ],
      "metadata": {
        "id": "-AGHbyABRPz3",
        "colab": {
          "base_uri": "https://localhost:8080/"
        },
        "outputId": "3c14bb2a-3cd0-465e-968a-29b5ae5b158d"
      },
      "execution_count": null,
      "outputs": [
        {
          "output_type": "stream",
          "name": "stdout",
          "text": [
            "Epoch 1: Class_accuracy: 99.22%\n",
            "Epoch 2: Class_accuracy: 99.16%\n",
            "Epoch 3: Class_accuracy: 99.17%\n",
            "Epoch 4: Class_accuracy: 99.29%\n",
            "Epoch 5: Class_accuracy: 99.29%\n",
            "Epoch 6: Class_accuracy: 99.20%\n",
            "Epoch 7: Class_accuracy: 99.21%\n",
            "Epoch 8: Class_accuracy: 99.29%\n",
            "Epoch 9: Class_accuracy: 99.25%\n",
            "Epoch 10: Class_accuracy: 99.35%\n",
            "Epoch 11: Class_accuracy: 99.28%\n",
            "Epoch 12: Class_accuracy: 99.36%\n"
          ]
        }
      ]
    },
    {
      "cell_type": "code",
      "source": [
        "train_and_evaluate(fc_model,compute_student_loss)"
      ],
      "metadata": {
        "colab": {
          "base_uri": "https://localhost:8080/"
        },
        "id": "5eoZ-_xCPbWl",
        "outputId": "a6a3a664-98b1-4d03-910e-b4e36f9eff6d"
      },
      "execution_count": null,
      "outputs": [
        {
          "output_type": "stream",
          "name": "stdout",
          "text": [
            "Epoch 1: Class_accuracy: 96.56%\n",
            "Epoch 2: Class_accuracy: 97.72%\n",
            "Epoch 3: Class_accuracy: 98.14%\n",
            "Epoch 4: Class_accuracy: 98.34%\n",
            "Epoch 5: Class_accuracy: 98.49%\n",
            "Epoch 6: Class_accuracy: 98.53%\n",
            "Epoch 7: Class_accuracy: 98.64%\n",
            "Epoch 8: Class_accuracy: 98.69%\n",
            "Epoch 9: Class_accuracy: 98.69%\n",
            "Epoch 10: Class_accuracy: 98.71%\n",
            "Epoch 11: Class_accuracy: 98.67%\n",
            "Epoch 12: Class_accuracy: 98.75%\n",
            "WARNING:tensorflow:Compiled the loaded model, but the compiled metrics have yet to be built. `model.compile_metrics` will be empty until you train or evaluate the model.\n"
          ]
        },
        {
          "output_type": "stream",
          "name": "stderr",
          "text": [
            "WARNING:tensorflow:Compiled the loaded model, but the compiled metrics have yet to be built. `model.compile_metrics` will be empty until you train or evaluate the model.\n"
          ]
        },
        {
          "output_type": "stream",
          "name": "stdout",
          "text": [
            "INFO:tensorflow:Assets written to: <keras.engine.sequential.Sequential object at 0x7fd633e69290>/assets\n"
          ]
        },
        {
          "output_type": "stream",
          "name": "stderr",
          "text": [
            "INFO:tensorflow:Assets written to: <keras.engine.sequential.Sequential object at 0x7fd633e69290>/assets\n"
          ]
        }
      ]
    },
    {
      "cell_type": "markdown",
      "source": [
        "# Test accuracy vs. tempreture curve"
      ],
      "metadata": {
        "id": "sj1N38fnRTNB"
      }
    },
    {
      "cell_type": "code",
      "source": [
        "def compute_student_loss_plot(images, labels, T, alpha=0.5):\n",
        "  \n",
        "  student_class_logits = fc_model(images, training=True)\n",
        "\n",
        "  teacher_class_logits = cnn_model(images, training=False)\n",
        "  distillation_loss_value = distillation_loss(teacher_class_logits, student_class_logits, T)\n",
        "\n",
        "  student_loss = tf.reduce_mean(tf.nn.softmax_cross_entropy_with_logits(labels, student_class_logits))\n",
        "  cross_entropy_loss_value = alpha * student_loss + (1 - alpha) * distillation_loss_value\n",
        "  \n",
        "  return cross_entropy_loss_value\n",
        "\n",
        "def train_and_evaluate_plot(model, compute_loss_fn, T, alpha=0.5):\n",
        "  optimizer = tf.keras.optimizers.Adam(learning_rate=0.001)\n",
        "  test_accuracy = []\n",
        "\n",
        "  for epoch in range(1, NUM_EPOCHS + 1):\n",
        "    # Run training.\n",
        "    #print('Epoch {}: '.format(epoch), end='')\n",
        "    for images, labels in mnist_train:\n",
        "      with tf.GradientTape() as tape:\n",
        "        loss_value = compute_loss_fn(images, labels, T, alpha=0.5)\n",
        "\n",
        "      grads = tape.gradient(loss_value, model.trainable_variables)\n",
        "      optimizer.apply_gradients(zip(grads, model.trainable_variables))\n",
        "\n",
        "    # Run evaluation.\n",
        "    num_correct = 0\n",
        "    num_total = builder.info.splits['test'].num_examples\n",
        "    for images, labels in mnist_test:\n",
        "\n",
        "      a,b,c = compute_num_correct(model, images, labels)\n",
        "      num_correct += a\n",
        "    # print(\"Class_accuracy: \" + '{:.2f}%'.format(\n",
        "    #     num_correct / num_total * 100))\n",
        "    test_accuracy.append(num_correct / num_total * 100)\n",
        "  return test_accuracy\n"
      ],
      "metadata": {
        "id": "RxX7MquIliNM"
      },
      "execution_count": null,
      "outputs": []
    },
    {
      "cell_type": "code",
      "source": [
        "# your code start from here for step 6\n",
        "T = [1,2,4,16,32,64]\n",
        "epoch = [i for i in range(1,13)]\n",
        "handles = []\n",
        "\n",
        "for i in T:\n",
        "  test_accuracy = train_and_evaluate_plot(fc_model,compute_student_loss_plot, i)\n",
        "  temp = str(i)\n",
        "  temp,  = plt.plot(epoch, test_accuracy, label=f'T = {i}')\n",
        "  handles.append(temp)\n",
        "\n",
        "plt.legend(handles=handles)\n",
        "plt.show()"
      ],
      "metadata": {
        "id": "gX4dbazrRWIz",
        "colab": {
          "base_uri": "https://localhost:8080/",
          "height": 264
        },
        "outputId": "23fe070f-9c7c-4bb1-ad7d-4aec74784d7b"
      },
      "execution_count": null,
      "outputs": [
        {
          "output_type": "display_data",
          "data": {
            "text/plain": [
              "<Figure size 432x288 with 1 Axes>"
            ],
            "image/png": "[encoded data removed]"
          },
          "metadata": {
            "needs_background": "light"
          }
        }
      ]
    },
    {
      "cell_type": "markdown",
      "source": [
        "It looks like when holding alpha constant, increasing T gives a better accuracy. This is intended because a high temperature gives higher entropy and therefore provides more information for training the smaller model. Therefore, a higher T should give higher accuracy."
      ],
      "metadata": {
        "id": "N5l7wsgsk8Uj"
      }
    },
    {
      "cell_type": "markdown",
      "source": [
        "Now, with the best T (=64), we try different alpha values for fine-tuning, and these alphavalues include 0.1 to 0.9 (increment by 0.1)."
      ],
      "metadata": {
        "id": "TmgHMcZxQePy"
      }
    },
    {
      "cell_type": "code",
      "source": [
        "def compute_student_loss_plot(images, labels, alpha):\n",
        "  \n",
        "  student_class_logits = fc_model(images, training=True)\n",
        "\n",
        "  teacher_class_logits = cnn_model(images, training=False)\n",
        "  distillation_loss_value = distillation_loss(teacher_class_logits, student_class_logits, 64)\n",
        "\n",
        "  student_loss = tf.reduce_mean(tf.nn.softmax_cross_entropy_with_logits(labels, student_class_logits))\n",
        "  cross_entropy_loss_value = alpha * student_loss + (1 - alpha) * distillation_loss_value\n",
        "  \n",
        "  return cross_entropy_loss_value\n",
        "\n",
        "def train_and_evaluate_plot(model, compute_loss_fn, alpha):\n",
        "  optimizer = tf.keras.optimizers.Adam(learning_rate=0.001)\n",
        "  test_accuracy = []\n",
        "\n",
        "  for epoch in range(1, NUM_EPOCHS + 1):\n",
        "    for images, labels in mnist_train:\n",
        "      with tf.GradientTape() as tape:\n",
        "        loss_value = compute_loss_fn(images, labels, alpha)\n",
        "\n",
        "      grads = tape.gradient(loss_value, model.trainable_variables)\n",
        "      optimizer.apply_gradients(zip(grads, model.trainable_variables))\n",
        "\n",
        "    # Run evaluation.\n",
        "    num_correct = 0\n",
        "    num_total = builder.info.splits['test'].num_examples\n",
        "    for images, labels in mnist_test:\n",
        "\n",
        "      a,b,c = compute_num_correct(model, images, labels)\n",
        "      num_correct += a\n",
        "    # print(\"Class_accuracy: \" + '{:.2f}%'.format(\n",
        "    #     num_correct / num_total * 100))\n",
        "    test_accuracy.append(num_correct / num_total * 100)\n",
        "  return test_accuracy"
      ],
      "metadata": {
        "id": "1qq5trinkkeV"
      },
      "execution_count": null,
      "outputs": []
    },
    {
      "cell_type": "code",
      "source": [
        "# your code start from here for step 6\n",
        "alpha = [0.1,0.2,0.3,0.4,0.5,0.6,0.7,0.8,0.9]\n",
        "epoch = [i for i in range(1,13)]\n",
        "handles = []\n",
        "\n",
        "for i in alpha:\n",
        "  test_accuracy = train_and_evaluate_plot(fc_model,compute_student_loss_plot, i)\n",
        "  alpha = str(i)\n",
        "  alpha,  = plt.plot(epoch, test_accuracy, label=f'alpha = {i}')\n",
        "  handles.append(alpha)\n",
        "\n",
        "plt.legend(handles=handles)\n",
        "plt.show()"
      ],
      "metadata": {
        "colab": {
          "base_uri": "https://localhost:8080/",
          "height": 264
        },
        "id": "1DQJ8AxLlOkE",
        "outputId": "77eb2e20-0076-473f-bcd9-ef28d16edf3e"
      },
      "execution_count": null,
      "outputs": [
        {
          "output_type": "display_data",
          "data": {
            "text/plain": [
              "<Figure size 432x288 with 1 Axes>"
            ],
            "image/png": "[encoded data removed]"
          },
          "metadata": {
            "needs_background": "light"
          }
        }
      ]
    },
    {
      "cell_type": "markdown",
      "source": [
        "From the graph above, it looks like alpha=0.9 is the best choice."
      ],
      "metadata": {
        "id": "D0dHhtLiQxPS"
      }
    },
    {
      "cell_type": "markdown",
      "source": [
        "# Train student from scratch"
      ],
      "metadata": {
        "id": "WNrH_1emRbGA"
      }
    },
    {
      "cell_type": "code",
      "source": [
        "# Build fully connected student.\n",
        "fc_model_no_distillation = tf.keras.Sequential()\n",
        "\n",
        "# your code start from here for step 7\n",
        "fc_model_no_distillation.add(tf.keras.Input(shape=(28,28,1)))\n",
        "fc_model_no_distillation.add(tf.keras.layers.Flatten())\n",
        "fc_model_no_distillation.add(tf.keras.layers.Dense(784, activation='relu'))\n",
        "fc_model_no_distillation.add(tf.keras.layers.Dense(784, activation='relu'))\n",
        "fc_model_no_distillation.add(tf.keras.layers.Dense(10))\n",
        "\n",
        "def compute_plain_cross_entropy_loss(images, labels):\n",
        "  \"\"\"Compute plain loss for given images and labels.\n",
        "\n",
        "  For fair comparison and convenience, this function also performs a\n",
        "  LogSumExp over classes, but does not perform class distillation.\n",
        "\n",
        "  Args:\n",
        "    images: Tensor representing a batch of images.\n",
        "    labels: Tensor representing a batch of labels.\n",
        "\n",
        "  Returns:\n",
        "    Scalar loss Tensor.\n",
        "  \"\"\"\n",
        "  # your code start from here for step 7\n",
        "  student_class_logits = fc_model_no_distillation(images, training=True)\n",
        "  cross_entropy_loss = tf.nn.softmax_cross_entropy_with_logits(labels, student_class_logits) \n",
        "  return cross_entropy_loss\n",
        "\n",
        "train_and_evaluate(fc_model_no_distillation, compute_plain_cross_entropy_loss)"
      ],
      "metadata": {
        "id": "HjospsxIRbQ6",
        "colab": {
          "base_uri": "https://localhost:8080/"
        },
        "outputId": "11448587-81bf-491c-bdb4-21d53a39d6f4"
      },
      "execution_count": null,
      "outputs": [
        {
          "output_type": "stream",
          "name": "stdout",
          "text": [
            "Epoch 1: Class_accuracy: 96.89%\n",
            "Epoch 2: Class_accuracy: 97.65%\n",
            "Epoch 3: Class_accuracy: 97.84%\n",
            "Epoch 4: Class_accuracy: 97.83%\n",
            "Epoch 5: Class_accuracy: 97.51%\n",
            "Epoch 6: Class_accuracy: 97.99%\n",
            "Epoch 7: Class_accuracy: 97.58%\n",
            "Epoch 8: Class_accuracy: 98.21%\n",
            "Epoch 9: Class_accuracy: 97.85%\n",
            "Epoch 10: Class_accuracy: 98.30%\n",
            "Epoch 11: Class_accuracy: 98.09%\n",
            "Epoch 12: Class_accuracy: 97.99%\n"
          ]
        }
      ]
    },
    {
      "cell_type": "code",
      "source": [
        "ALPHA = 0.9 # task balance between cross-entropy and distillation loss\n",
        "DISTILLATION_TEMPERATURE = 64 #temperature hyperparameter\n",
        "\n",
        "def distillation_loss(teacher_logits: tf.Tensor, student_logits: tf.Tensor,\n",
        "                      temperature: Union[float, tf.Tensor]):\n",
        "  soft_targets = tf.nn.softmax(teacher_logits / temperature)\n",
        "  return tf.reduce_mean(\n",
        "      tf.nn.softmax_cross_entropy_with_logits(\n",
        "          soft_targets, student_logits / temperature)) * temperature ** 2\n",
        "\n",
        "def compute_student_loss(images, labels):\n",
        "  student_class_logits = fc_model(images, training=True)\n",
        "  teacher_class_logits = cnn_model(images, training=False)\n",
        "  distillation_loss_value = distillation_loss(teacher_class_logits, student_class_logits, DISTILLATION_TEMPERATURE)\n",
        "  student_loss = tf.reduce_mean(tf.nn.softmax_cross_entropy_with_logits(labels, student_class_logits))\n",
        "  cross_entropy_loss_value = ALPHA * student_loss + (1 - ALPHA) * distillation_loss_value\n",
        "  return cross_entropy_loss_value\n",
        "\n",
        "@tf.function\n",
        "def compute_num_correct(model, images, labels):\n",
        "  class_logits = model(images, training=False)\n",
        "  return tf.reduce_sum(\n",
        "      tf.cast(tf.math.equal(tf.argmax(class_logits, -1), tf.argmax(labels, -1)),\n",
        "              tf.float32)), tf.argmax(class_logits, -1), tf.argmax(labels, -1)\n",
        "\n",
        "def train_and_evaluate(model, compute_loss_fn):\n",
        "  optimizer = tf.keras.optimizers.Adam(learning_rate=0.001)\n",
        "  for epoch in range(1, NUM_EPOCHS + 1):\n",
        "    # Run training.\n",
        "    print('Epoch {}: '.format(epoch), end='')\n",
        "    for images, labels in mnist_train:\n",
        "      with tf.GradientTape() as tape:\n",
        "        loss_value = compute_loss_fn(images, labels)\n",
        "      #print(loss_value)\n",
        "      grads = tape.gradient(loss_value, model.trainable_variables)\n",
        "      optimizer.apply_gradients(zip(grads, model.trainable_variables))\n",
        "\n",
        "    # Run evaluation.\n",
        "    num_correct = 0\n",
        "    num_total = builder.info.splits['test'].num_examples\n",
        "    for images, labels in mnist_test:\n",
        "      # your code start from here for step 4\n",
        "      a,b,c = compute_num_correct(model, images, labels)\n",
        "      num_correct += a\n",
        "    print(\"Class_accuracy: \" + '{:.2f}%'.format(\n",
        "        num_correct / num_total * 100))"
      ],
      "metadata": {
        "id": "wArX_sE6kqRK"
      },
      "execution_count": null,
      "outputs": []
    },
    {
      "cell_type": "code",
      "source": [
        "train_and_evaluate(fc_model,compute_student_loss)"
      ],
      "metadata": {
        "colab": {
          "base_uri": "https://localhost:8080/"
        },
        "id": "wuH6d_9yk8pc",
        "outputId": "d6513c3f-1578-44b4-b2dd-752590e73266"
      },
      "execution_count": null,
      "outputs": [
        {
          "output_type": "stream",
          "name": "stdout",
          "text": [
            "Epoch 1: Class_accuracy: 97.58%\n",
            "Epoch 2: Class_accuracy: 98.20%\n",
            "Epoch 3: Class_accuracy: 98.44%\n",
            "Epoch 4: Class_accuracy: 98.46%\n",
            "Epoch 5: Class_accuracy: 98.58%\n",
            "Epoch 6: Class_accuracy: 98.62%\n",
            "Epoch 7: Class_accuracy: 98.66%\n",
            "Epoch 8: Class_accuracy: 98.75%\n",
            "Epoch 9: Class_accuracy: 98.69%\n",
            "Epoch 10: Class_accuracy: 98.71%\n",
            "Epoch 11: Class_accuracy: 98.80%\n",
            "Epoch 12: Class_accuracy: 98.72%\n"
          ]
        }
      ]
    },
    {
      "cell_type": "markdown",
      "source": [
        "# Comparing the teacher and student model (number of of parameters and FLOPs) "
      ],
      "metadata": {
        "id": "yq3JTpQ4RuhR"
      }
    },
    {
      "cell_type": "code",
      "source": [
        "flops = get_flops(cnn_model, batch_size=1)\n",
        "print(f\"FLOPS: {flops / 10 ** 9:.03} G\")"
      ],
      "metadata": {
        "colab": {
          "base_uri": "https://localhost:8080/"
        },
        "id": "eEBelPjOpafH",
        "outputId": "c5127bc8-53fe-430b-c044-f8dad936bbc9"
      },
      "execution_count": null,
      "outputs": [
        {
          "output_type": "stream",
          "name": "stdout",
          "text": [
            "FLOPS: 0.022 G\n"
          ]
        }
      ]
    },
    {
      "cell_type": "code",
      "source": [
        "flops = get_flops(fc_model, batch_size=1)\n",
        "print(f\"FLOPS: {flops / 10 ** 9:.03} G\")"
      ],
      "metadata": {
        "colab": {
          "base_uri": "https://localhost:8080/"
        },
        "id": "o83TuMrULBKJ",
        "outputId": "99f3a5fb-2828-4e4a-917f-f8d94eddb357"
      },
      "execution_count": null,
      "outputs": [
        {
          "output_type": "stream",
          "name": "stdout",
          "text": [
            "FLOPS: 0.00248 G\n"
          ]
        }
      ]
    },
    {
      "cell_type": "code",
      "source": [
        "cnn_model.summary()"
      ],
      "metadata": {
        "colab": {
          "base_uri": "https://localhost:8080/"
        },
        "id": "e1J0j9YVMJWO",
        "outputId": "9a990f5d-e1d8-4be6-d5b4-34b9d7ddd03f"
      },
      "execution_count": null,
      "outputs": [
        {
          "output_type": "stream",
          "name": "stdout",
          "text": [
            "Model: \"sequential_7\"\n",
            "_________________________________________________________________\n",
            " Layer (type)                Output Shape              Param #   \n",
            "=================================================================\n",
            " conv2d_3 (Conv2D)           (None, 26, 26, 32)        320       \n",
            "                                                                 \n",
            " max_pooling2d_2 (MaxPooling  (None, 25, 25, 32)       0         \n",
            " 2D)                                                             \n",
            "                                                                 \n",
            " conv2d_4 (Conv2D)           (None, 23, 23, 64)        18496     \n",
            "                                                                 \n",
            " max_pooling2d_3 (MaxPooling  (None, 11, 11, 64)       0         \n",
            " 2D)                                                             \n",
            "                                                                 \n",
            " flatten_7 (Flatten)         (None, 7744)              0         \n",
            "                                                                 \n",
            " dropout_2 (Dropout)         (None, 7744)              0         \n",
            "                                                                 \n",
            " dense_20 (Dense)            (None, 128)               991360    \n",
            "                                                                 \n",
            " dropout_3 (Dropout)         (None, 128)               0         \n",
            "                                                                 \n",
            " dense_21 (Dense)            (None, 10)                1290      \n",
            "                                                                 \n",
            "=================================================================\n",
            "Total params: 1,011,466\n",
            "Trainable params: 1,011,466\n",
            "Non-trainable params: 0\n",
            "_________________________________________________________________\n"
          ]
        }
      ]
    },
    {
      "cell_type": "code",
      "source": [
        "fc_model.summary()"
      ],
      "metadata": {
        "colab": {
          "base_uri": "https://localhost:8080/"
        },
        "id": "ZApB6LrAMLBX",
        "outputId": "59d78412-e724-4c37-ab6d-ee5f1bdcea01"
      },
      "execution_count": null,
      "outputs": [
        {
          "output_type": "stream",
          "name": "stdout",
          "text": [
            "Model: \"sequential_1\"\n",
            "_________________________________________________________________\n",
            " Layer (type)                Output Shape              Param #   \n",
            "=================================================================\n",
            " flatten_1 (Flatten)         (None, 784)               0         \n",
            "                                                                 \n",
            " dense_2 (Dense)             (None, 784)               615440    \n",
            "                                                                 \n",
            " dense_3 (Dense)             (None, 784)               615440    \n",
            "                                                                 \n",
            " dense_4 (Dense)             (None, 10)                7850      \n",
            "                                                                 \n",
            "=================================================================\n",
            "Total params: 1,238,730\n",
            "Trainable params: 1,238,730\n",
            "Non-trainable params: 0\n",
            "_________________________________________________________________\n"
          ]
        }
      ]
    },
    {
      "cell_type": "markdown",
      "source": [
        "Although the student has more parameters than the teacher, the student model's flop is a degree of smaller than the teacher model. "
      ],
      "metadata": {
        "id": "o5_WxolNNK-g"
      }
    },
    {
      "cell_type": "markdown",
      "source": [
        "# XAI method to explain models"
      ],
      "metadata": {
        "id": "8b5yNhJfRu-7"
      }
    },
    {
      "cell_type": "code",
      "source": [
        "# your code start from here for step 9\n",
        "from google.colab import drive\n",
        "drive.mount('/content/drive')"
      ],
      "metadata": {
        "id": "yFgp5kA5RvID",
        "colab": {
          "base_uri": "https://localhost:8080/"
        },
        "outputId": "87076985-bb08-4a63-b0a5-bf8e374d5cd2"
      },
      "execution_count": null,
      "outputs": [
        {
          "output_type": "stream",
          "name": "stdout",
          "text": [
            "Drive already mounted at /content/drive; to attempt to forcibly remount, call drive.mount(\"/content/drive\", force_remount=True).\n"
          ]
        }
      ]
    },
    {
      "cell_type": "code",
      "source": [
        "import os\n",
        "# need to replace this with your own directory\n",
        "os.chdir(r'/content/drive/My Drive/Colab Notebooks/1512')"
      ],
      "metadata": {
        "id": "CbWhqKXeOCT8"
      },
      "execution_count": null,
      "outputs": []
    },
    {
      "cell_type": "code",
      "source": [
        "from xai_utils import *"
      ],
      "metadata": {
        "id": "jGyyz5zLOJR-"
      },
      "execution_count": null,
      "outputs": []
    },
    {
      "cell_type": "code",
      "source": [
        "# XAI on the teacher model.\n",
        "for image, label in mnist_test:\n",
        "  cam = grad_cam(cnn_model, np.expand_dims(image[0].numpy(), axis=0), 'conv2d_1')\n",
        "  #print(cam.shape)\n",
        "  cam = (cam*255).astype(\"uint8\")\n",
        "  cam = cv2.applyColorMap(cam, cv2.COLORMAP_JET)\n",
        "  img = cam + image[0].numpy()\n",
        "  img = np.clip(img,0,255).astype(\"uint8\")\n",
        "  img = cv2.cvtColor(img, cv2.COLOR_BGR2RGB)\n",
        "  fig,ax = plt.subplots(1,2,figsize=(10,10))\n",
        "  ax[0].imshow(image[0].numpy().reshape(28,28))\n",
        "  ax[1].imshow(img)\n",
        "  ax[0].axis('off')\n",
        "  ax[1].axis('off')\n",
        "  break"
      ],
      "metadata": {
        "colab": {
          "base_uri": "https://localhost:8080/",
          "height": 302
        },
        "id": "06graTLuOggA",
        "outputId": "623f92db-ef1e-4526-aa5c-398a03f89504"
      },
      "execution_count": null,
      "outputs": [
        {
          "output_type": "stream",
          "name": "stdout",
          "text": [
            "(28, 28)\n"
          ]
        },
        {
          "output_type": "display_data",
          "data": {
            "text/plain": [
              "<Figure size 720x720 with 2 Axes>"
            ],
            "image/png": "[encoded data removed]"
          },
          "metadata": {
            "needs_background": "light"
          }
        }
      ]
    },
    {
      "cell_type": "code",
      "source": [
        "# XAI on the student model.\n",
        "for image, label in mnist_test:\n",
        "  cam = grad_cam(fc_model, np.expand_dims(image[0].numpy(), axis=0), 'conv2d_5')\n",
        "  #print(cam.shape)\n",
        "  cam = (cam*255).astype(\"uint8\")\n",
        "  cam = cv2.applyColorMap(cam, cv2.COLORMAP_JET)\n",
        "  img = cam + image[0].numpy()\n",
        "  img = np.clip(img,0,255).astype(\"uint8\")\n",
        "  img = cv2.cvtColor(img, cv2.COLOR_BGR2RGB)\n",
        "  fig,ax = plt.subplots(1,2,figsize=(10,10))\n",
        "  ax[0].imshow(image[0].numpy().reshape(28,28))\n",
        "  ax[1].imshow(img)\n",
        "  ax[0].axis('off')\n",
        "  ax[1].axis('off')\n",
        "  break"
      ],
      "metadata": {
        "colab": {
          "base_uri": "https://localhost:8080/",
          "height": 284
        },
        "id": "NXOYdr0C4nts",
        "outputId": "deef1023-b8c6-47d8-a137-d7b5b0944761"
      },
      "execution_count": null,
      "outputs": [
        {
          "output_type": "display_data",
          "data": {
            "text/plain": [
              "<Figure size 720x720 with 2 Axes>"
            ],
            "image/png": "[encoded data removed]"
          },
          "metadata": {
            "needs_background": "light"
          }
        }
      ]
    },
    {
      "cell_type": "code",
      "source": [
        "# XAI on the distilled model.\n",
        "for image, label in mnist_test:\n",
        "  cam = grad_cam(fc_model, np.expand_dims(image[0].numpy(), axis=0), 'conv2d_3')\n",
        "  #print(cam.shape)\n",
        "  cam = (cam*255).astype(\"uint8\")\n",
        "  cam = cv2.applyColorMap(cam, cv2.COLORMAP_JET)\n",
        "  img = cam + image[0].numpy()\n",
        "  img = np.clip(img,0,255).astype(\"uint8\")\n",
        "  img = cv2.cvtColor(img, cv2.COLOR_BGR2RGB)\n",
        "  fig,ax = plt.subplots(1,2,figsize=(10,10))\n",
        "  ax[0].imshow(image[0].numpy().reshape(28,28))\n",
        "  ax[1].imshow(img)\n",
        "  ax[0].axis('off')\n",
        "  ax[1].axis('off')\n",
        "  break"
      ],
      "metadata": {
        "colab": {
          "base_uri": "https://localhost:8080/",
          "height": 284
        },
        "id": "NnrG-6nH4uSE",
        "outputId": "2bfab675-5c64-434c-f3ee-8a881eab4b3e"
      },
      "execution_count": null,
      "outputs": [
        {
          "output_type": "display_data",
          "data": {
            "text/plain": [
              "<Figure size 720x720 with 2 Axes>"
            ],
            "image/png": "[encoded data removed]"
          },
          "metadata": {
            "needs_background": "light"
          }
        }
      ]
    },
    {
      "cell_type": "markdown",
      "source": [
        "# 10. Now that you have had a chance to implement, understand, and train the teacher and student\n",
        "models in the KD framework, you will use the state-of-the-arts KD algorithm to improve the\n",
        "performance of the student model. Read only one of the following papers- [10, 9, 13, 12, 3, 16, 7,\n",
        "11, 2]. What is the main novel idea of the paper? [2 Marks]"
      ],
      "metadata": {
        "id": "QlG686YBiybm"
      }
    },
    {
      "cell_type": "markdown",
      "source": [
        "The algorithm that we are implementing is the teacher assistant knowledge distillation.\n",
        "\n",
        "Seyed Iman Mirzadeh, Mehrdad Farajtabar, Ang Li, Nir Levine, Akihiro Matsukawa, and Hassan Ghasemzadeh. Improved knowledge distillation via teacher assistant. In Proceedings of the AAAI Conference on Artificial Intelligence, volume 34, pages 5191–5198, 2020. https://ojs.aaai.org/ index.php/AAAI/article/view/5963/5819.\n",
        "\n",
        "The key idea of this algorithm is to use a intermediate-sized teacher assistant(TA) model to fill the gap between the large teacher model and the smaller student model. When the difference between the teacher and student's size gets bigger, the student network may not perform well. The reason is when the teacher model becomes so complex, the small student model would not have enough DOF or capacity to mimic the teacher's behavior.\n",
        "\n",
        "Therefore, this huge gap between the teacher and student cannot provide much useful distilled knowledge to supervise student's learning."
      ],
      "metadata": {
        "id": "l94U935Li1wS"
      }
    },
    {
      "cell_type": "markdown",
      "source": [
        "# How does the proposed method improve the student performance in comparison to the conventional KD? [2 Marks]"
      ],
      "metadata": {
        "id": "cqZxhfw4i8m1"
      }
    },
    {
      "cell_type": "markdown",
      "source": [
        "The proposed model introduced an intermediate TA model that helps to fill the gap between the bigger teacher and the smaller student. When there is a huge difference in the number of layers between the student and teacher, using a TA could bridge the difference the extent of soft targets from the teacher model to a much smaller student model."
      ],
      "metadata": {
        "id": "gTthAj4vi--X"
      }
    },
    {
      "cell_type": "markdown",
      "source": [
        "# What are some limitations of the proposed method? How can they be addressed? [2 Marks]"
      ],
      "metadata": {
        "id": "p-gyXI3YjaPN"
      }
    },
    {
      "cell_type": "markdown",
      "source": [
        "One limitation of this TA approach is that the structure (best size) of the TA cannot be easily determined. Another limitation is that when using this approach in our case where a not so big teacher and a not too small student were used, the improvement can be minimal. One last limitation is that the number of TA to be used cannot be easily determined either. If using this approache on a enormous teacher paired with a extremely tiny student, it can be difficult to set the number of TA to be used. In other words, the distillation path can be difficult to determined according to the original paper.\n",
        "\n",
        "One way to address these issues it that we can do experiments based on trials-and-errors. Once we set up the number of TA and the TA structure, we can keep adjusting these parameters and find out what are the best parameters to use."
      ],
      "metadata": {
        "id": "XDslHelwjbtu"
      }
    },
    {
      "cell_type": "markdown",
      "source": [
        "# Implementing the state-of-the-art KD algorithm"
      ],
      "metadata": {
        "id": "KjwJ5oziRvRn"
      }
    },
    {
      "cell_type": "markdown",
      "source": [
        "The algorithm that we are implementing is the teacher assistant knowledge distillation.\n",
        "\n",
        "Seyed Iman Mirzadeh, Mehrdad Farajtabar, Ang Li, Nir Levine, Akihiro Matsukawa, and Hassan\n",
        "Ghasemzadeh. Improved knowledge distillation via teacher assistant. In Proceedings of the AAAI\n",
        "Conference on Artificial Intelligence, volume 34, pages 5191–5198, 2020. https://ojs.aaai.org/\n",
        "index.php/AAAI/article/view/5963/5819.\n",
        "\n",
        "The key idea of this algorithm is to use a intermediate-sized teacher assistant(TA) model to fill the gap between the large teacher model and the smaller student model. When the difference between the teacher and student's size gets bigger, the student network may not perform well. The reason is when the teacher model becomes so complex, the small student model would not have enough DOF or capacity to mimic the teacher's behavior.\n",
        "\n",
        "Therefore, this huge gap between the teacher and student cannot provide much useful distilled knowledge to supervise student's learning.\n",
        "\n"
      ],
      "metadata": {
        "id": "1wKziadRDp4r"
      }
    },
    {
      "cell_type": "code",
      "source": [
        "cnn_model.summary()"
      ],
      "metadata": {
        "id": "q10lybAFRvZt",
        "colab": {
          "base_uri": "https://localhost:8080/"
        },
        "outputId": "6e2acf0a-b16c-43fc-f80b-bd73be54d6a6"
      },
      "execution_count": null,
      "outputs": [
        {
          "output_type": "stream",
          "name": "stdout",
          "text": [
            "Model: \"sequential\"\n",
            "_________________________________________________________________\n",
            " Layer (type)                Output Shape              Param #   \n",
            "=================================================================\n",
            " conv2d (Conv2D)             (None, 26, 26, 32)        320       \n",
            "                                                                 \n",
            " max_pooling2d (MaxPooling2D  (None, 25, 25, 32)       0         \n",
            " )                                                               \n",
            "                                                                 \n",
            " conv2d_1 (Conv2D)           (None, 23, 23, 64)        18496     \n",
            "                                                                 \n",
            " max_pooling2d_1 (MaxPooling  (None, 11, 11, 64)       0         \n",
            " 2D)                                                             \n",
            "                                                                 \n",
            " flatten (Flatten)           (None, 7744)              0         \n",
            "                                                                 \n",
            " dropout (Dropout)           (None, 7744)              0         \n",
            "                                                                 \n",
            " dense (Dense)               (None, 128)               991360    \n",
            "                                                                 \n",
            " dropout_1 (Dropout)         (None, 128)               0         \n",
            "                                                                 \n",
            " dense_1 (Dense)             (None, 10)                1290      \n",
            "                                                                 \n",
            "=================================================================\n",
            "Total params: 1,011,466\n",
            "Trainable params: 1,011,466\n",
            "Non-trainable params: 0\n",
            "_________________________________________________________________\n"
          ]
        }
      ]
    },
    {
      "cell_type": "code",
      "source": [
        "fc_model.summary()"
      ],
      "metadata": {
        "colab": {
          "base_uri": "https://localhost:8080/"
        },
        "id": "QvZ-xAIKMo7D",
        "outputId": "4f48a38b-3c62-4330-d25a-13e30618bcf4"
      },
      "execution_count": null,
      "outputs": [
        {
          "output_type": "stream",
          "name": "stdout",
          "text": [
            "Model: \"sequential_1\"\n",
            "_________________________________________________________________\n",
            " Layer (type)                Output Shape              Param #   \n",
            "=================================================================\n",
            " flatten_1 (Flatten)         (None, 784)               0         \n",
            "                                                                 \n",
            " dense_2 (Dense)             (None, 784)               615440    \n",
            "                                                                 \n",
            " dense_3 (Dense)             (None, 784)               615440    \n",
            "                                                                 \n",
            " dense_4 (Dense)             (None, 10)                7850      \n",
            "                                                                 \n",
            "=================================================================\n",
            "Total params: 1,238,730\n",
            "Trainable params: 1,238,730\n",
            "Non-trainable params: 0\n",
            "_________________________________________________________________\n"
          ]
        }
      ]
    },
    {
      "cell_type": "markdown",
      "source": [
        "Since the teacher model has 2 conv layers and the student is fully connected. We decided to create a intermediate TA model that has 1 conv layer to fill the gap."
      ],
      "metadata": {
        "id": "lrNuYKztE2F8"
      }
    },
    {
      "cell_type": "code",
      "source": [
        "# Build TA model.\n",
        "ta_model = tf.keras.Sequential()\n",
        "ta_model.add(tf.keras.Input(shape=(28,28,1)))\n",
        "ta_model.add(tf.keras.layers.Conv2D(32, 3, strides=1, activation='relu'))\n",
        "ta_model.add(tf.keras.layers.MaxPooling2D(pool_size=(2,2), strides=1))\n",
        "ta_model.add(tf.keras.layers.Flatten())\n",
        "ta_model.add(tf.keras.layers.Dropout(0.5))\n",
        "ta_model.add(tf.keras.layers.Dense(128, activation='relu'))\n",
        "ta_model.add(tf.keras.layers.Dropout(0.5))\n",
        "ta_model.add(tf.keras.layers.Dense(10))"
      ],
      "metadata": {
        "id": "fzv6wG7ZFDhp"
      },
      "execution_count": null,
      "outputs": []
    },
    {
      "cell_type": "code",
      "source": [
        "ta_model.summary()"
      ],
      "metadata": {
        "colab": {
          "base_uri": "https://localhost:8080/"
        },
        "id": "XXtQCalvFMD7",
        "outputId": "76de06c0-7b16-49cc-a376-00d6176e53d3"
      },
      "execution_count": null,
      "outputs": [
        {
          "output_type": "stream",
          "name": "stdout",
          "text": [
            "Model: \"sequential_9\"\n",
            "_________________________________________________________________\n",
            " Layer (type)                Output Shape              Param #   \n",
            "=================================================================\n",
            " conv2d_5 (Conv2D)           (None, 26, 26, 32)        320       \n",
            "                                                                 \n",
            " max_pooling2d_4 (MaxPooling  (None, 25, 25, 32)       0         \n",
            " 2D)                                                             \n",
            "                                                                 \n",
            " flatten_9 (Flatten)         (None, 20000)             0         \n",
            "                                                                 \n",
            " dropout_4 (Dropout)         (None, 20000)             0         \n",
            "                                                                 \n",
            " dense_25 (Dense)            (None, 128)               2560128   \n",
            "                                                                 \n",
            " dropout_5 (Dropout)         (None, 128)               0         \n",
            "                                                                 \n",
            " dense_26 (Dense)            (None, 10)                1290      \n",
            "                                                                 \n",
            "=================================================================\n",
            "Total params: 2,561,738\n",
            "Trainable params: 2,561,738\n",
            "Non-trainable params: 0\n",
            "_________________________________________________________________\n"
          ]
        }
      ]
    },
    {
      "cell_type": "markdown",
      "source": [
        "Next, we will train the teacher's model as usual and then transfer the knowledge to the intermediate TA model."
      ],
      "metadata": {
        "id": "_qHYz1GcFaad"
      }
    },
    {
      "cell_type": "code",
      "source": [
        "# train the teacher model\n",
        "train_and_evaluate(cnn_model, compute_teacher_loss)"
      ],
      "metadata": {
        "colab": {
          "base_uri": "https://localhost:8080/"
        },
        "id": "SJku2QhQFmJy",
        "outputId": "9bea888b-3d61-4d27-c06d-270efc28ffa9"
      },
      "execution_count": null,
      "outputs": [
        {
          "output_type": "stream",
          "name": "stdout",
          "text": [
            "Epoch 1: Class_accuracy: 98.22%\n",
            "Epoch 2: Class_accuracy: 98.59%\n",
            "Epoch 3: Class_accuracy: 99.01%\n",
            "Epoch 4: Class_accuracy: 99.11%\n",
            "Epoch 5: Class_accuracy: 99.03%\n",
            "Epoch 6: Class_accuracy: 99.09%\n",
            "Epoch 7: Class_accuracy: 99.12%\n",
            "Epoch 8: Class_accuracy: 99.20%\n",
            "Epoch 9: Class_accuracy: 99.08%\n",
            "Epoch 10: Class_accuracy: 99.23%\n",
            "Epoch 11: Class_accuracy: 99.24%\n",
            "Epoch 12: Class_accuracy: 99.32%\n"
          ]
        }
      ]
    },
    {
      "cell_type": "markdown",
      "source": [
        "Next, we are going to train the TA model using the distilled knowledge from the teacher."
      ],
      "metadata": {
        "id": "WkFW8ABQPGj7"
      }
    },
    {
      "cell_type": "code",
      "source": [
        "# Slightly change the parameters in order to train the TA model.\n",
        "# Also change the hyperparameter to the most optimized one\n",
        "\n",
        "ALPHA = 0.9 # task balance between cross-entropy and distillation loss\n",
        "DISTILLATION_TEMPERATURE = 64\n",
        "\n",
        "def distillation_loss(teacher_logits: tf.Tensor, student_logits: tf.Tensor,\n",
        "                      temperature: Union[float, tf.Tensor]):\n",
        "  soft_targets = tf.nn.softmax(teacher_logits / temperature)\n",
        "\n",
        "  return tf.reduce_mean(\n",
        "      tf.nn.softmax_cross_entropy_with_logits(\n",
        "          soft_targets, student_logits / temperature)) * temperature ** 2\n",
        "\n",
        "def compute_student_loss(images, labels):\n",
        "  student_class_logits = ta_model(images, training=True)\n",
        "  teacher_class_logits = cnn_model(images, training=False)\n",
        "  distillation_loss_value = distillation_loss(teacher_class_logits, student_class_logits, DISTILLATION_TEMPERATURE)\n",
        "  student_loss = tf.reduce_mean(tf.nn.softmax_cross_entropy_with_logits(labels, student_class_logits))\n",
        "  cross_entropy_loss_value = ALPHA * student_loss + (1 - ALPHA) * distillation_loss_value\n",
        "  \n",
        "  return cross_entropy_loss_value"
      ],
      "metadata": {
        "id": "U7aWHWrbPzS6"
      },
      "execution_count": null,
      "outputs": []
    },
    {
      "cell_type": "code",
      "source": [
        "train_and_evaluate(ta_model,compute_student_loss)"
      ],
      "metadata": {
        "colab": {
          "base_uri": "https://localhost:8080/"
        },
        "id": "eyDNQGOnPLFv",
        "outputId": "64fd51ad-9738-489c-cd27-9b0c5b3b6738"
      },
      "execution_count": null,
      "outputs": [
        {
          "output_type": "stream",
          "name": "stdout",
          "text": [
            "Epoch 1: Class_accuracy: 97.02%\n",
            "Epoch 2: Class_accuracy: 97.87%\n",
            "Epoch 3: Class_accuracy: 98.12%\n",
            "Epoch 4: Class_accuracy: 98.31%\n",
            "Epoch 5: Class_accuracy: 98.42%\n",
            "Epoch 6: Class_accuracy: 98.42%\n",
            "Epoch 7: Class_accuracy: 98.42%\n",
            "Epoch 8: Class_accuracy: 98.45%\n",
            "Epoch 9: Class_accuracy: 98.55%\n",
            "Epoch 10: Class_accuracy: 98.59%\n",
            "Epoch 11: Class_accuracy: 98.66%\n",
            "Epoch 12: Class_accuracy: 98.65%\n"
          ]
        }
      ]
    },
    {
      "cell_type": "markdown",
      "source": [
        "Now, the TA model is trained, we then train the student model."
      ],
      "metadata": {
        "id": "QnQuhuHWdVZC"
      }
    },
    {
      "cell_type": "code",
      "source": [
        "# Slightly change the parameters in order to train the TA model.\n",
        "# Also change the hyperparameter to the most optimized one\n",
        "\n",
        "ALPHA = 0.9 # task balance between cross-entropy and distillation loss\n",
        "DISTILLATION_TEMPERATURE = 64\n",
        "\n",
        "def distillation_loss(teacher_logits: tf.Tensor, student_logits: tf.Tensor,\n",
        "                      temperature: Union[float, tf.Tensor]):\n",
        "  soft_targets = tf.nn.softmax(teacher_logits / temperature)\n",
        "\n",
        "  return tf.reduce_mean(\n",
        "      tf.nn.softmax_cross_entropy_with_logits(\n",
        "          soft_targets, student_logits / temperature)) * temperature ** 2\n",
        "\n",
        "def compute_student_loss(images, labels):\n",
        "  student_class_logits = fc_model(images, training=True)\n",
        "  teacher_class_logits = ta_model(images, training=False)\n",
        "  distillation_loss_value = distillation_loss(teacher_class_logits, student_class_logits, DISTILLATION_TEMPERATURE)\n",
        "  student_loss = tf.reduce_mean(tf.nn.softmax_cross_entropy_with_logits(labels, student_class_logits))\n",
        "  cross_entropy_loss_value = ALPHA * student_loss + (1 - ALPHA) * distillation_loss_value\n",
        "  \n",
        "  return cross_entropy_loss_value"
      ],
      "metadata": {
        "id": "tGlV7eT_dYuA"
      },
      "execution_count": null,
      "outputs": []
    },
    {
      "cell_type": "code",
      "source": [
        "train_and_evaluate(fc_model,compute_student_loss)"
      ],
      "metadata": {
        "colab": {
          "base_uri": "https://localhost:8080/"
        },
        "id": "aWb7DQUPdi_p",
        "outputId": "b880601e-b5aa-465c-c93d-6fb0522b865e"
      },
      "execution_count": null,
      "outputs": [
        {
          "output_type": "stream",
          "name": "stdout",
          "text": [
            "Epoch 1: Class_accuracy: 96.66%\n",
            "Epoch 2: Class_accuracy: 97.93%\n",
            "Epoch 3: Class_accuracy: 98.15%\n",
            "Epoch 4: Class_accuracy: 98.31%\n",
            "Epoch 5: Class_accuracy: 98.41%\n",
            "Epoch 6: Class_accuracy: 98.45%\n",
            "Epoch 7: Class_accuracy: 98.45%\n",
            "Epoch 8: Class_accuracy: 98.53%\n",
            "Epoch 9: Class_accuracy: 98.56%\n",
            "Epoch 10: Class_accuracy: 98.58%\n",
            "Epoch 11: Class_accuracy: 98.61%\n",
            "Epoch 12: Class_accuracy: 98.70%\n"
          ]
        }
      ]
    },
    {
      "cell_type": "markdown",
      "source": [
        "We see that the increase in accuracy is not significant. Only 0.05% from the TA model. But it's still better than training the student from scratch. Our guess is that because the student and teacher model do not have too big a difference in terms of number of layers, and therefore using a TA in between does not has significant impact. However, it is clear that the accuracy is still better."
      ],
      "metadata": {
        "id": "dS9FJmOUh5yn"
      }
    },
    {
      "cell_type": "markdown",
      "source": [
        "# 1(a) What is the purpose of using KD in this paper? [0.5 Marks]"
      ],
      "metadata": {
        "id": "kWdy_wi7M-97"
      }
    },
    {
      "cell_type": "markdown",
      "source": [
        "The paper used KD to train a smaller model that is more compact and resource efficient than the original cumbersome model while mainiting comparable accuracy. The cumbersome model can be trained by using as many computation resources as possible, but deploying on some end-user's machine may not be possible. By using KD, this cumbersome model can be replaced by a smaller model which can be easily deployed. In other words, KD is used to transfer the generalization ability from a bigger model to a smaller model."
      ],
      "metadata": {
        "id": "boovafrRM-B5"
      }
    },
    {
      "cell_type": "markdown",
      "source": [
        "# 1(b) In the paper, what knowledge is transferred from the teacher model to the student model? [0.5 Marks]"
      ],
      "metadata": {
        "id": "t6D4VDSoOfMX"
      }
    },
    {
      "cell_type": "markdown",
      "source": [
        "The knowledge transfered from the teacher to the student is the class probabilities (soften by the temperature), in other words, divide the logits by a tempeture value and feed it to the softmax, the new result from the softmax is what being transfered."
      ],
      "metadata": {
        "id": "UsfBDKXXOi2h"
      }
    },
    {
      "cell_type": "markdown",
      "source": [
        "# 1(c) What is the temperature hyperparameter T? Why do we use it when transferring knowledge from one model to another? What effect does the temperature hyperparameter have in KD? [0.5 Marks]"
      ],
      "metadata": {
        "id": "lmICO3UlOk1j"
      }
    },
    {
      "cell_type": "markdown",
      "source": [
        "T is a hyperparameter that is used to devide the logit by before feeding it to the softmax layer (softmax(f(xi)/T). We use T to smooth the labeling. When a model is highly confident about one class and the class probability for other classes is small, by using a larger T, we can get a relatively smoother (balanced) results and the entropy is increased comparing to without using T (or small T). In KD, this T allows distilled knowledge to be transfered."
      ],
      "metadata": {
        "id": "cvUa-zTchiMZ"
      }
    },
    {
      "cell_type": "markdown",
      "source": [
        "# (d) Explain in detail the loss functions on which the teacher and student model are trained in this paper. How does the task balance parameter affect student learning? [0.5 Marks]"
      ],
      "metadata": {
        "id": "C6VnlWrCOrcx"
      }
    },
    {
      "cell_type": "markdown",
      "source": [
        "The teacher uses cross-entropy loss on the one-hot encoder from the image.\n",
        "The student uses a cross-entropy plus a distillation object. The task balance parameter is the weighting between cross-entropy and distillation loss. Since the equation is alpha * student_loss + (1 - alpha) * distillation_loss_value. Therefore, a small value of alpha emphasises more on the distillation (1 minus something small is big) meaning that more distilled knowledge is used to train the student. Otherwise, less distilled knowledge is used."
      ],
      "metadata": {
        "id": "Et3Yy4bDnhax"
      }
    },
    {
      "cell_type": "markdown",
      "source": [
        "# (e) Can we look at the KD as a regularization technique, here? Explain your rationale. [0.5 Marks]"
      ],
      "metadata": {
        "id": "UyRUWWpsOuFc"
      }
    },
    {
      "cell_type": "markdown",
      "source": [
        "kD is a form of regularization because it smooths the labels and therefore regularizing the model's classification layer."
      ],
      "metadata": {
        "id": "f80X2JWTpBqG"
      }
    }
  ]
}